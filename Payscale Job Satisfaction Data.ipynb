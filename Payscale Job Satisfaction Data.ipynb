{
 "metadata": {
  "name": "",
  "signature": "sha256:16b598598eeb569e8ee0e1ea1527975a440a35fc0ed10684db9a3151a960814d"
 },
 "nbformat": 3,
 "nbformat_minor": 0,
 "worksheets": [
  {
   "cells": [
    {
     "cell_type": "heading",
     "level": 1,
     "metadata": {},
     "source": [
      "Looking at Payscale's Job Satisfaction Data"
     ]
    },
    {
     "cell_type": "code",
     "collapsed": false,
     "input": [
      "%pylab inline"
     ],
     "language": "python",
     "metadata": {},
     "outputs": [
      {
       "output_type": "stream",
       "stream": "stdout",
       "text": [
        "Populating the interactive namespace from numpy and matplotlib\n"
       ]
      }
     ],
     "prompt_number": 1
    },
    {
     "cell_type": "code",
     "collapsed": false,
     "input": [
      "import numpy as np\n",
      "import matplotlib.pyplot as plt\n",
      "import matplotlib.mlab as mlab\n",
      "import pandas as pd"
     ],
     "language": "python",
     "metadata": {},
     "outputs": [],
     "prompt_number": 2
    },
    {
     "cell_type": "markdown",
     "metadata": {},
     "source": [
      "##Get the data\n",
      "Let us use requests and BeautifulSoup to look at the data available on the Payscale website"
     ]
    },
    {
     "cell_type": "code",
     "collapsed": false,
     "input": [
      "import requests\n",
      "from bs4 import BeautifulSoup\n",
      "# soup = BeautifulSoup(html_doc)"
     ],
     "language": "python",
     "metadata": {},
     "outputs": [],
     "prompt_number": 3
    },
    {
     "cell_type": "code",
     "collapsed": false,
     "input": [
      "r = requests.get('http://www.payscale.com/data-packages/most-and-least-meaningful-jobs/full-list')"
     ],
     "language": "python",
     "metadata": {},
     "outputs": [],
     "prompt_number": 4
    },
    {
     "cell_type": "code",
     "collapsed": false,
     "input": [
      "r.status_code"
     ],
     "language": "python",
     "metadata": {},
     "outputs": [
      {
       "metadata": {},
       "output_type": "pyout",
       "prompt_number": 5,
       "text": [
        "200"
       ]
      }
     ],
     "prompt_number": 5
    },
    {
     "cell_type": "code",
     "collapsed": false,
     "input": [
      "soup = BeautifulSoup(r.text)"
     ],
     "language": "python",
     "metadata": {},
     "outputs": [],
     "prompt_number": 6
    },
    {
     "cell_type": "code",
     "collapsed": false,
     "input": [
      "#print soup.prettify()\n",
      "#soup.find_all('table')\n",
      "soup.table"
     ],
     "language": "python",
     "metadata": {},
     "outputs": [],
     "prompt_number": 8
    },
    {
     "cell_type": "markdown",
     "metadata": {},
     "source": [
      "###Using pandas.io\n",
      "As it turns out, once inspected there is only one table. We can easily import it using pandas.io"
     ]
    },
    {
     "cell_type": "code",
     "collapsed": false,
     "input": [
      "url = 'http://www.payscale.com/data-packages/most-and-least-meaningful-jobs/full-list'"
     ],
     "language": "python",
     "metadata": {},
     "outputs": [],
     "prompt_number": 3
    },
    {
     "cell_type": "code",
     "collapsed": false,
     "input": [
      "pd.io.html.read_html?"
     ],
     "language": "python",
     "metadata": {},
     "outputs": [],
     "prompt_number": 4
    },
    {
     "cell_type": "code",
     "collapsed": false,
     "input": [
      "dflist = pd.io.html.read_html(url, match='.+', flavor=None, header=0, index_col=None, skiprows=None, infer_types=None, attrs=None, parse_dates=False, tupleize_cols=False, thousands=',')"
     ],
     "language": "python",
     "metadata": {},
     "outputs": [],
     "prompt_number": 5
    },
    {
     "cell_type": "code",
     "collapsed": false,
     "input": [
      "df = dflist[0]"
     ],
     "language": "python",
     "metadata": {},
     "outputs": [],
     "prompt_number": 6
    },
    {
     "cell_type": "code",
     "collapsed": false,
     "input": [
      "df.dtypes"
     ],
     "language": "python",
     "metadata": {},
     "outputs": [
      {
       "metadata": {},
       "output_type": "pyout",
       "prompt_number": 7,
       "text": [
        "Detailed Occupation        object\n",
        "Median Pay                 object\n",
        "% High Meaning             object\n",
        "% High Satisfaction        object\n",
        "% High Stress              object\n",
        "Typical Education Level    object\n",
        "% Female                   object\n",
        "% Male                     object\n",
        "Job Level                  object\n",
        "dtype: object"
       ]
      }
     ],
     "prompt_number": 7
    },
    {
     "cell_type": "code",
     "collapsed": false,
     "input": [
      "df.head()"
     ],
     "language": "python",
     "metadata": {},
     "outputs": [
      {
       "html": [
        "<div style=\"max-height:1000px;max-width:1500px;overflow:auto;\">\n",
        "<table border=\"1\" class=\"dataframe\">\n",
        "  <thead>\n",
        "    <tr style=\"text-align: right;\">\n",
        "      <th></th>\n",
        "      <th>Detailed Occupation</th>\n",
        "      <th>Median Pay</th>\n",
        "      <th>% High Meaning</th>\n",
        "      <th>% High Satisfaction</th>\n",
        "      <th>% High Stress</th>\n",
        "      <th>Typical Education Level</th>\n",
        "      <th>% Female</th>\n",
        "      <th>% Male</th>\n",
        "      <th>Job Level</th>\n",
        "    </tr>\n",
        "  </thead>\n",
        "  <tbody>\n",
        "    <tr>\n",
        "      <th>0</th>\n",
        "      <td>                                         Clergy</td>\n",
        "      <td>  $45,400</td>\n",
        "      <td> 97%</td>\n",
        "      <td> 89%</td>\n",
        "      <td> 68%</td>\n",
        "      <td>        Masters (non-MBA)</td>\n",
        "      <td> 14%</td>\n",
        "      <td> 86%</td>\n",
        "      <td> Mid-Career</td>\n",
        "    </tr>\n",
        "    <tr>\n",
        "      <th>1</th>\n",
        "      <td>    Directors, Religious Activities &amp; Education</td>\n",
        "      <td>  $35,900</td>\n",
        "      <td> 97%</td>\n",
        "      <td> 88%</td>\n",
        "      <td> 61%</td>\n",
        "      <td>                Bachelors</td>\n",
        "      <td> 50%</td>\n",
        "      <td> 50%</td>\n",
        "      <td> Mid-Career</td>\n",
        "    </tr>\n",
        "    <tr>\n",
        "      <th>2</th>\n",
        "      <td>                                       Surgeons</td>\n",
        "      <td> $299,600</td>\n",
        "      <td> 94%</td>\n",
        "      <td> 82%</td>\n",
        "      <td> 79%</td>\n",
        "      <td> Doctors of Medicine (MD)</td>\n",
        "      <td> 18%</td>\n",
        "      <td> 82%</td>\n",
        "      <td> Mid-Career</td>\n",
        "    </tr>\n",
        "    <tr>\n",
        "      <th>3</th>\n",
        "      <td> Education Administrators, Elementary/Secondary</td>\n",
        "      <td>  $75,900</td>\n",
        "      <td> 93%</td>\n",
        "      <td> 87%</td>\n",
        "      <td> 85%</td>\n",
        "      <td>        Masters (non-MBA)</td>\n",
        "      <td> 55%</td>\n",
        "      <td> 45%</td>\n",
        "      <td>     Senior</td>\n",
        "    </tr>\n",
        "    <tr>\n",
        "      <th>4</th>\n",
        "      <td>                                  Chiropractors</td>\n",
        "      <td>  $58,700</td>\n",
        "      <td> 93%</td>\n",
        "      <td> 65%</td>\n",
        "      <td> 52%</td>\n",
        "      <td>        Doctorate (Ph.D.)</td>\n",
        "      <td> 27%</td>\n",
        "      <td> 73%</td>\n",
        "      <td> Mid-Career</td>\n",
        "    </tr>\n",
        "  </tbody>\n",
        "</table>\n",
        "</div>"
       ],
       "metadata": {},
       "output_type": "pyout",
       "prompt_number": 7,
       "text": [
        "                              Detailed Occupation Median Pay % High Meaning  \\\n",
        "0                                          Clergy    $45,400            97%   \n",
        "1     Directors, Religious Activities & Education    $35,900            97%   \n",
        "2                                        Surgeons   $299,600            94%   \n",
        "3  Education Administrators, Elementary/Secondary    $75,900            93%   \n",
        "4                                   Chiropractors    $58,700            93%   \n",
        "\n",
        "  % High Satisfaction % High Stress   Typical Education Level % Female % Male  \\\n",
        "0                 89%           68%         Masters (non-MBA)      14%    86%   \n",
        "1                 88%           61%                 Bachelors      50%    50%   \n",
        "2                 82%           79%  Doctors of Medicine (MD)      18%    82%   \n",
        "3                 87%           85%         Masters (non-MBA)      55%    45%   \n",
        "4                 65%           52%         Doctorate (Ph.D.)      27%    73%   \n",
        "\n",
        "    Job Level  \n",
        "0  Mid-Career  \n",
        "1  Mid-Career  \n",
        "2  Mid-Career  \n",
        "3      Senior  \n",
        "4  Mid-Career  "
       ]
      }
     ],
     "prompt_number": 7
    },
    {
     "cell_type": "markdown",
     "metadata": {},
     "source": [
      "###Data Munging"
     ]
    },
    {
     "cell_type": "code",
     "collapsed": false,
     "input": [
      "for c in df.columns:\n",
      "    df[c] = df[c].str.replace('%','')"
     ],
     "language": "python",
     "metadata": {},
     "outputs": [],
     "prompt_number": 8
    },
    {
     "cell_type": "code",
     "collapsed": false,
     "input": [
      "df[df.columns[1]] = df[df.columns[1]].str.replace('$','')"
     ],
     "language": "python",
     "metadata": {},
     "outputs": [],
     "prompt_number": 9
    },
    {
     "cell_type": "code",
     "collapsed": false,
     "input": [
      "df[df.columns[1]] = df[df.columns[1]].str.replace(',','')"
     ],
     "language": "python",
     "metadata": {},
     "outputs": [],
     "prompt_number": 10
    },
    {
     "cell_type": "code",
     "collapsed": false,
     "input": [
      "df.head()"
     ],
     "language": "python",
     "metadata": {},
     "outputs": [
      {
       "html": [
        "<div style=\"max-height:1000px;max-width:1500px;overflow:auto;\">\n",
        "<table border=\"1\" class=\"dataframe\">\n",
        "  <thead>\n",
        "    <tr style=\"text-align: right;\">\n",
        "      <th></th>\n",
        "      <th>Detailed Occupation</th>\n",
        "      <th>Median Pay</th>\n",
        "      <th>% High Meaning</th>\n",
        "      <th>% High Satisfaction</th>\n",
        "      <th>% High Stress</th>\n",
        "      <th>Typical Education Level</th>\n",
        "      <th>% Female</th>\n",
        "      <th>% Male</th>\n",
        "      <th>Job Level</th>\n",
        "    </tr>\n",
        "  </thead>\n",
        "  <tbody>\n",
        "    <tr>\n",
        "      <th>0</th>\n",
        "      <td>                                         Clergy</td>\n",
        "      <td>  45400</td>\n",
        "      <td> 97</td>\n",
        "      <td> 89</td>\n",
        "      <td> 68</td>\n",
        "      <td>        Masters (non-MBA)</td>\n",
        "      <td> 14</td>\n",
        "      <td> 86</td>\n",
        "      <td> Mid-Career</td>\n",
        "    </tr>\n",
        "    <tr>\n",
        "      <th>1</th>\n",
        "      <td>    Directors, Religious Activities &amp; Education</td>\n",
        "      <td>  35900</td>\n",
        "      <td> 97</td>\n",
        "      <td> 88</td>\n",
        "      <td> 61</td>\n",
        "      <td>                Bachelors</td>\n",
        "      <td> 50</td>\n",
        "      <td> 50</td>\n",
        "      <td> Mid-Career</td>\n",
        "    </tr>\n",
        "    <tr>\n",
        "      <th>2</th>\n",
        "      <td>                                       Surgeons</td>\n",
        "      <td> 299600</td>\n",
        "      <td> 94</td>\n",
        "      <td> 82</td>\n",
        "      <td> 79</td>\n",
        "      <td> Doctors of Medicine (MD)</td>\n",
        "      <td> 18</td>\n",
        "      <td> 82</td>\n",
        "      <td> Mid-Career</td>\n",
        "    </tr>\n",
        "    <tr>\n",
        "      <th>3</th>\n",
        "      <td> Education Administrators, Elementary/Secondary</td>\n",
        "      <td>  75900</td>\n",
        "      <td> 93</td>\n",
        "      <td> 87</td>\n",
        "      <td> 85</td>\n",
        "      <td>        Masters (non-MBA)</td>\n",
        "      <td> 55</td>\n",
        "      <td> 45</td>\n",
        "      <td>     Senior</td>\n",
        "    </tr>\n",
        "    <tr>\n",
        "      <th>4</th>\n",
        "      <td>                                  Chiropractors</td>\n",
        "      <td>  58700</td>\n",
        "      <td> 93</td>\n",
        "      <td> 65</td>\n",
        "      <td> 52</td>\n",
        "      <td>        Doctorate (Ph.D.)</td>\n",
        "      <td> 27</td>\n",
        "      <td> 73</td>\n",
        "      <td> Mid-Career</td>\n",
        "    </tr>\n",
        "  </tbody>\n",
        "</table>\n",
        "</div>"
       ],
       "metadata": {},
       "output_type": "pyout",
       "prompt_number": 11,
       "text": [
        "                              Detailed Occupation Median Pay % High Meaning  \\\n",
        "0                                          Clergy      45400             97   \n",
        "1     Directors, Religious Activities & Education      35900             97   \n",
        "2                                        Surgeons     299600             94   \n",
        "3  Education Administrators, Elementary/Secondary      75900             93   \n",
        "4                                   Chiropractors      58700             93   \n",
        "\n",
        "  % High Satisfaction % High Stress   Typical Education Level % Female % Male  \\\n",
        "0                  89            68         Masters (non-MBA)       14     86   \n",
        "1                  88            61                 Bachelors       50     50   \n",
        "2                  82            79  Doctors of Medicine (MD)       18     82   \n",
        "3                  87            85         Masters (non-MBA)       55     45   \n",
        "4                  65            52         Doctorate (Ph.D.)       27     73   \n",
        "\n",
        "    Job Level  \n",
        "0  Mid-Career  \n",
        "1  Mid-Career  \n",
        "2  Mid-Career  \n",
        "3      Senior  \n",
        "4  Mid-Career  "
       ]
      }
     ],
     "prompt_number": 11
    },
    {
     "cell_type": "code",
     "collapsed": false,
     "input": [
      "df = df.convert_objects(convert_numeric=True)"
     ],
     "language": "python",
     "metadata": {},
     "outputs": [],
     "prompt_number": 12
    },
    {
     "cell_type": "code",
     "collapsed": false,
     "input": [
      "df.dtypes"
     ],
     "language": "python",
     "metadata": {},
     "outputs": [
      {
       "metadata": {},
       "output_type": "pyout",
       "prompt_number": 13,
       "text": [
        "Detailed Occupation         object\n",
        "Median Pay                   int64\n",
        "% High Meaning               int64\n",
        "% High Satisfaction        float64\n",
        "% High Stress                int64\n",
        "Typical Education Level     object\n",
        "% Female                     int64\n",
        "% Male                       int64\n",
        "Job Level                   object\n",
        "dtype: object"
       ]
      }
     ],
     "prompt_number": 13
    },
    {
     "cell_type": "markdown",
     "metadata": {},
     "source": [
      "##Exploring the data\n",
      "EDA"
     ]
    },
    {
     "cell_type": "code",
     "collapsed": false,
     "input": [
      "pd.options.display.mpl_style = 'default'"
     ],
     "language": "python",
     "metadata": {},
     "outputs": [],
     "prompt_number": 14
    },
    {
     "cell_type": "code",
     "collapsed": false,
     "input": [
      "figsize(10, 10)"
     ],
     "language": "python",
     "metadata": {},
     "outputs": [],
     "prompt_number": 15
    },
    {
     "cell_type": "code",
     "collapsed": false,
     "input": [
      "plt.scatter(x=df['% High Stress'],y=df['% High Satisfaction'], s=df['Median Pay']*.001, alpha=0.5)\n",
      "plt.gca().set_xlabel('% High Stress')\n",
      "plt.gca().set_ylabel('% High Satisfaction')\n",
      "plt.gca().set_title('High Satisfaction vs High Stress Jobs', fontsize=16)\n",
      "plt.show()"
     ],
     "language": "python",
     "metadata": {},
     "outputs": [
      {
       "metadata": {},
       "output_type": "display_data",
       "png": "[encoded data removed]",
       "text": [
        "<matplotlib.figure.Figure at 0x10937ea50>"
       ]
      }
     ],
     "prompt_number": 20
    }
   ],
   "metadata": {}
  }
 ]
}